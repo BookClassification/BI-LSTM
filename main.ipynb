{
 "cells": [
  {
   "cell_type": "code",
   "execution_count": 1,
   "metadata": {},
   "outputs": [],
   "source": [
    "import pandas as pd\n",
    "import numpy as np\n",
    "from matplotlib import pyplot as plt\n",
    "import jieba as jb\n",
    "import re\n",
    "import time\n",
    "\n",
    "import torch\n",
    "import torch.nn as nn\n",
    "from torchnlp.encoders.text import StaticTokenizerEncoder\n",
    "from torch.nn.utils.rnn import pack_padded_sequence, pad_packed_sequence, pad_sequence\n",
    "from torch.optim.lr_scheduler import ReduceLROnPlateau\n",
    "from torch.autograd import Variable\n",
    "from torch.optim import Adam\n",
    "\n",
    "from itertools import repeat\n",
    "\n",
    "from sklearn.model_selection import train_test_split"
   ]
  },
  {
   "cell_type": "code",
   "execution_count": 2,
   "metadata": {},
   "outputs": [],
   "source": [
    "df = pd.read_csv(\"dataset.csv\", encoding=\"gb18030\")\n",
    "df = df[['cat', 'keyword']]"
   ]
  },
  {
   "cell_type": "code",
   "execution_count": 3,
   "metadata": {},
   "outputs": [
    {
     "name": "stdout",
     "output_type": "stream",
     "text": [
      "数据总量: 16953 .\n",
      "在 cat 列中总共有 0 个空值.\n",
      "在 keyword 列中总共有 0 个空值.\n"
     ]
    }
   ],
   "source": [
    "print(\"数据总量: %d .\" % len(df))\n",
    "print(\"在 cat 列中总共有 %d 个空值.\" % df['cat'].isnull().sum())\n",
    "print(\"在 keyword 列中总共有 %d 个空值.\" % df['keyword'].isnull().sum())"
   ]
  },
  {
   "cell_type": "code",
   "execution_count": 4,
   "metadata": {},
   "outputs": [
    {
     "name": "stdout",
     "output_type": "stream",
     "text": [
      "    cat  count\n",
      "0    经济   3983\n",
      "1  工业技术   3834\n",
      "2    医药   3250\n",
      "3  农业科学   3131\n",
      "4  天文地理   2755\n"
     ]
    },
    {
     "data": {
      "image/png": "[encoded data removed]",
      "text/plain": [
       "<Figure size 504x360 with 1 Axes>"
      ]
     },
     "metadata": {
      "needs_background": "light"
     },
     "output_type": "display_data"
    }
   ],
   "source": [
    "import matplotlib as mpl\n",
    "mpl.rcParams['font.sans-serif'] = ['SimHei']\n",
    "data_count = df['cat'].value_counts()\n",
    "data_count_kw = {'cat':data_count.index, 'count':data_count}\n",
    "df_cat = pd.DataFrame(data=data_count_kw).reset_index(drop=True)\n",
    "print(df_cat)\n",
    "df_cat.plot(x='cat', y='count', kind='bar', legend=False,  figsize=(7, 5))\n",
    "plt.title(u\"类目分布\")\n",
    "plt.ylabel(u'数量', fontsize=18)\n",
    "plt.xlabel(u'类目', fontsize=18)\n",
    "plt.show()"
   ]
  },
  {
   "cell_type": "code",
   "execution_count": 5,
   "metadata": {},
   "outputs": [
    {
     "name": "stdout",
     "output_type": "stream",
     "text": [
      "    cat  cat_id\n",
      "0  工业技术       0\n",
      "1    经济       1\n",
      "2  天文地理       2\n",
      "3    医药       3\n",
      "4  农业科学       4\n"
     ]
    }
   ],
   "source": [
    "df['cat_id'] = df['cat'].factorize()[0]\n",
    "\n",
    "cat_id_df = df[['cat', 'cat_id']].drop_duplicates().sort_values('cat_id').reset_index(drop=True)\n",
    "\n",
    "cat_to_id = dict(cat_id_df.values)\n",
    "id_to_cat = dict(cat_id_df[['cat_id', 'cat']].values)\n",
    "\n",
    "print(cat_id_df)"
   ]
  },
  {
   "cell_type": "code",
   "execution_count": 6,
   "metadata": {},
   "outputs": [
    {
     "name": "stdout",
     "output_type": "stream",
     "text": [
      "        cat                                            keyword  cat_id  \\\n",
      "127    工业技术  无线携能传输协同中继非正交多址接入系统的 速率优化设计,非正交多址接入系统,无线携能传输,速...       0   \n",
      "13719  工业技术                                   远程终端可控AI门禁系统,,,,       0   \n",
      "4775   农业科学                           2019年全球农药市场状况与主要特点分析,,,,       4   \n",
      "5518   天文地理    基于对流参数南宁地区雷暴天气潜势预报方法研究,雷达回波,强对流天气,时空分布特征,短时预报指标       2   \n",
      "2295     医药  陕西省住院新生儿出生胎龄＜34周早产儿院内感染败血症多中心流行病学调查,婴儿,早产,败血症,...       3   \n",
      "16623    经济                     乡村振兴该从何入手,乡村振兴战略,内生动力,农业农村现代化,       1   \n",
      "14075  工业技术                  操作系统发展趋势分析与开源发展建议,操作系统,开源,一体化,虚拟化       0   \n",
      "12356  农业科学                   家禽感染肠道疾病的影响因素及危害,家禽,肠道疾病,产气荚膜梭菌,       4   \n",
      "13598  农业科学               粳稻农艺性状与品质性状间的遗传相关性,粳稻,农艺性状,穗部性状,品质性状       4   \n",
      "16473    经济  劳动力老龄化阻碍了农业生产吗?——基于空间计量模型的实证分析,农业劳动力老龄化,农业生产,区...       1   \n",
      "\n",
      "                                           clean_keyword  \n",
      "127    无线携能传输协同中继非正交多址接入系统的速率优化设计非正交多址接入系统无线携能传输速率优化功率分配  \n",
      "13719                                       远程终端可控AI门禁系统  \n",
      "4775                                2019年全球农药市场状况与主要特点分析  \n",
      "5518         基于对流参数南宁地区雷暴天气潜势预报方法研究雷达回波强对流天气时空分布特征短时预报指标  \n",
      "2295   陕西省住院新生儿出生胎龄34周早产儿院内感染败血症多中心流行病学调查婴儿早产败血症多中心研究病原学  \n",
      "16623                         乡村振兴该从何入手乡村振兴战略内生动力农业农村现代化  \n",
      "14075                      操作系统发展趋势分析与开源发展建议操作系统开源一体化虚拟化  \n",
      "12356                       家禽感染肠道疾病的影响因素及危害家禽肠道疾病产气荚膜梭菌  \n",
      "13598                   粳稻农艺性状与品质性状间的遗传相关性粳稻农艺性状穗部性状品质性状  \n",
      "16473  劳动力老龄化阻碍了农业生产吗基于空间计量模型的实证分析农业劳动力老龄化农业生产区域协同发展农...  \n"
     ]
    },
    {
     "name": "stderr",
     "output_type": "stream",
     "text": [
      "Building prefix dict from the default dictionary ...\n",
      "Loading model from cache C:\\Users\\塃狩烨崎\\AppData\\Local\\Temp\\jieba.cache\n",
      "Loading model cost 0.691 seconds.\n",
      "Prefix dict has been built successfully.\n"
     ]
    },
    {
     "name": "stdout",
     "output_type": "stream",
     "text": [
      "    cat                                    keyword  cat_id  \\\n",
      "0  工业技术  电熔耐火材料工艺除尘设置及其除尘技术的研究,电熔耐火材料,工艺,除尘技术,布袋除尘       0   \n",
      "1  工业技术  基于纳秒激光加工技术的表面织构工艺参数研究,纳秒激光表面织构,表面润湿性,表面能,       0   \n",
      "2  工业技术           化工机械设备安装工艺技术探究,化工机械设备,安装工艺,技术,方法       0   \n",
      "3  工业技术              热法磷酸生产磷酸脲的工艺技术研究,磷酸脲,热法磷酸,尿素,       0   \n",
      "4  工业技术  矿用主通信线缆组件制作工艺关键技术研究,主通信线缆组件,制作工艺,关键技术,可靠性       0   \n",
      "\n",
      "                           clean_keyword  \\\n",
      "0  电熔耐火材料工艺除尘设置及其除尘技术的研究电熔耐火材料工艺除尘技术布袋除尘   \n",
      "1  基于纳秒激光加工技术的表面织构工艺参数研究纳秒激光表面织构表面润湿性表面能   \n",
      "2           化工机械设备安装工艺技术探究化工机械设备安装工艺技术方法   \n",
      "3              热法磷酸生产磷酸脲的工艺技术研究磷酸脲热法磷酸尿素   \n",
      "4  矿用主通信线缆组件制作工艺关键技术研究主通信线缆组件制作工艺关键技术可靠性   \n",
      "\n",
      "                                         cut_keyword  \n",
      "0   电熔 耐火材料 工艺 除尘 设置 除尘 技术 研究 电熔 耐火材料 工艺 除尘 技术 布袋 除尘  \n",
      "1   纳秒 激光 加工 技术 表面 织构 工艺 参数 研究 纳秒 激光 表面 织构 表面 润湿性 表面  \n",
      "2              化工 机械设备 安装 工艺技术 探究 化工 机械设备 安装 工艺技术 方法  \n",
      "3                热法 磷酸 生产 磷酸 脲 工艺技术 研究 磷酸 脲 热法 磷酸 尿素  \n",
      "4  矿用 主 通信 线缆 组件 制作 工艺 关键技术 研究 主 通信 线缆 组件 制作 工艺 关...  \n"
     ]
    }
   ],
   "source": [
    "# 定义删除除字母,数字，汉字以外的所有符号的函数\n",
    "def remove_punctuation(line):\n",
    "    line = str(line)\n",
    "    if line.strip() == '':\n",
    "        return ''\n",
    "    rule = re.compile(u\"[^a-zA-Z0-9\\u4E00-\\u9FA5]\")\n",
    "    line = rule.sub('', line)\n",
    "    return line\n",
    "\n",
    "def stopwordslist(filepath):\n",
    "    stopwords = [line.strip() for line in open(filepath, 'r', encoding='utf-8').readlines()]\n",
    "    return stopwords\n",
    "\n",
    "# 加载停用词\n",
    "stopwords = stopwordslist(\"chineseStopWords.txt\")\n",
    "\n",
    "# 删除除字母,数字，汉字以外的所有符号\n",
    "df['clean_keyword'] = df['keyword'].apply(remove_punctuation)\n",
    "print(df.sample(10))\n",
    "\n",
    "# 分词，并过滤停用词\n",
    "df['cut_keyword'] = df['clean_keyword'].apply(lambda x: \" \".join([w for w in list(jb.cut(x)) if w not in stopwords]))\n",
    "print(df.head())"
   ]
  },
  {
   "cell_type": "code",
   "execution_count": 7,
   "metadata": {},
   "outputs": [
    {
     "name": "stdout",
     "output_type": "stream",
     "text": [
      "tensor([[   5,    6,    7,  ...,    0,    0,    0],\n",
      "        [  13,   14,   15,  ...,    0,    0,    0],\n",
      "        [  20,   21,   22,  ...,    0,    0,    0],\n",
      "        ...,\n",
      "        [ 654, 1138, 2210,  ...,    0,    0,    0],\n",
      "        [4584, 1265,  654,  ...,    0,    0,    0],\n",
      "        [4442, 2083,  581,  ...,    0,    0,    0]]) torch.Size([16953, 50])\n"
     ]
    }
   ],
   "source": [
    "# 设置最频繁使用的30000个词\n",
    "MAX_NB_WORDS = 30000\n",
    "\n",
    "# 每条cut_keyword最大的长度50\n",
    "MAX_SEQUENCE_LENGTH = 50\n",
    "\n",
    "# 设置Embeddingceng层的维度\n",
    "EMBEDDING_DIM = 128\n",
    "\n",
    "tok = StaticTokenizerEncoder(sample=df['cut_keyword'].values, tokenize=lambda x: x.split()) # 初始化标注器\n",
    "\n",
    "word_index = tok.token_to_index  # 查看对应的单词和数字的映射关系dict\n",
    "\n",
    "#print(word_index)\n",
    "\n",
    "X = [tok.encode(text) for text in df['cut_keyword'].values] # 通过texts_to_sequences 这个dict可以将每个string的每个词转成数字\n",
    "X.append(torch.tensor([0 for i in range(MAX_SEQUENCE_LENGTH)]))\n",
    "\n",
    "# print(pd.DataFrame(X))\n",
    "\n",
    "X = pad_sequence(X).T[:-1]\n",
    "\n",
    "print(X,X.shape)"
   ]
  },
  {
   "cell_type": "code",
   "execution_count": 8,
   "metadata": {},
   "outputs": [
    {
     "name": "stdout",
     "output_type": "stream",
     "text": [
      "<class 'numpy.ndarray'> (16953,)\n",
      "<class 'torch.Tensor'> torch.Size([16953, 50])\n",
      "<class 'numpy.ndarray'> (16953,)\n",
      "<class 'numpy.ndarray'> (16953, 50)\n",
      "(15257, 50) (15257,)\n",
      "(1696, 50) (1696,)\n"
     ]
    }
   ],
   "source": [
    "Y = df['cat_id'].values\n",
    "\n",
    "print(type(Y),Y.shape)\n",
    "print(type(X),X.shape)\n",
    "\n",
    "X = np.array([[int(j) for j in i] for i in X])\n",
    "Y = np.array(Y)\n",
    "\n",
    "print(type(Y),Y.shape)\n",
    "print(type(X),X.shape)\n",
    "\n",
    "# 拆分训练集和测试集\n",
    "\n",
    "X_train, X_test, Y_train, Y_test = train_test_split(X, Y, test_size=0.10, random_state=42, shuffle=True)\n",
    "\n",
    "print(X_train.shape, Y_train.shape)\n",
    "\n",
    "print(X_test.shape, Y_test.shape)\n"
   ]
  },
  {
   "cell_type": "code",
   "execution_count": 9,
   "metadata": {},
   "outputs": [
    {
     "data": {
      "text/plain": [
       "array([0, 4, 0, ..., 2, 3, 1], dtype=int64)"
      ]
     },
     "execution_count": 9,
     "metadata": {},
     "output_type": "execute_result"
    }
   ],
   "source": [
    "Y_train"
   ]
  },
  {
   "cell_type": "code",
   "execution_count": 20,
   "metadata": {},
   "outputs": [],
   "source": [
    "\n",
    "class pyt_SpatialDropout(nn.Module):\n",
    "    \"\"\"\n",
    "    空间dropout，即在指定轴方向上进行dropout，常用于Embedding层和CNN层后\n",
    "    如对于(batch, timesteps, embedding)的输入，若沿着axis=1则可对embedding的若干channel进行整体dropout\n",
    "    若沿着axis=2则可对某些token进行整体dropout\n",
    "    \"\"\"\n",
    "    def __init__(self, drop=0.5):\n",
    "        super(pyt_SpatialDropout, self).__init__()\n",
    "        self.drop = drop\n",
    "        \n",
    "    def forward(self, inputs, noise_shape=None):\n",
    "        \"\"\"\n",
    "        @param: inputs, tensor\n",
    "        @param: noise_shape, tuple, 应当与inputs的shape一致，其中值为1的即沿着drop的轴\n",
    "        \"\"\"\n",
    "        outputs = inputs.clone()\n",
    "        if noise_shape is None:\n",
    "            noise_shape = (inputs.shape[0], *repeat(1, inputs.dim()-2), inputs.shape[-1])   # 默认沿着中间所有的shape\n",
    "        \n",
    "        self.noise_shape = noise_shape\n",
    "        if not self.training or self.drop == 0:\n",
    "            return inputs\n",
    "        else:\n",
    "            noises = self._make_noises(inputs)\n",
    "            if self.drop == 1:\n",
    "                noises.fill_(0.0)\n",
    "            else:\n",
    "                noises.bernoulli_(1 - self.drop).div_(1 - self.drop)\n",
    "            noises = noises.expand_as(inputs)    \n",
    "            outputs.mul_(noises)\n",
    "            return outputs\n",
    "            \n",
    "    def _make_noises(self, inputs):\n",
    "        return inputs.new().resize_(self.noise_shape)\n",
    "    \n",
    "    \n",
    "class LSTMnet(nn.Module):\n",
    "    def __init__(self, output_size, hidden_dim, bidirectional):\n",
    "        super(LSTMnet, self).__init__()\n",
    "        \n",
    "        self.output_size = output_size\n",
    "        \n",
    "        self.Embedding = nn.Embedding(MAX_NB_WORDS, EMBEDDING_DIM)\n",
    "        self.lstm = nn.LSTM(input_size=EMBEDDING_DIM, hidden_size=hidden_dim, dropout=0.2, bidirectional=bidirectional)\n",
    "        self.dropout1 = nn.Dropout(0.25)\n",
    "        self.linear1 = nn.Linear(EMBEDDING_DIM,64)\n",
    "        self.dropout2 = nn.Dropout(0.3)\n",
    "        self.linear2 = nn.Linear(64,output_size)\n",
    "        self.sig = nn.Sigmoid()\n",
    "        \n",
    "    def forward(self, x):\n",
    "        \n",
    "        batch_size = x.size()\n",
    "        \n",
    "        x = x.long()\n",
    "        \n",
    "        x = self.Embedding(x)\n",
    "        lstm_out, hidden = self.lstm(x)\n",
    "        \n",
    "        out = self.dropout1(lstm_out)\n",
    "        out = self.linear1(out)\n",
    "        out = self.dropout2(out)\n",
    "        out = self.linear2(out)\n",
    "        \n",
    "        sig_out = self.sig(out)\n",
    "        sig_out = torch.max(out, 2)[1]\n",
    "        \n",
    "        # reshape to be batch_size first\n",
    "        sig_out = sig_out.view(batch_size, -1)\n",
    "        sig_out = sig_out[:,-1] # get last batch of labels\n",
    "        \n",
    "        # return last sigmoid output and hidden state\n",
    "        return sig_out, hidden"
   ]
  },
  {
   "cell_type": "code",
   "execution_count": null,
   "metadata": {
    "scrolled": true
   },
   "outputs": [
    {
     "name": "stderr",
     "output_type": "stream",
     "text": [
      "D:\\software\\Anaconda\\lib\\site-packages\\torch\\nn\\modules\\rnn.py:65: UserWarning: dropout option adds dropout after all but last recurrent layer, so non-zero dropout expects num_layers greater than 1, but got dropout=0.2 and num_layers=1\n",
      "  \"num_layers={}\".format(dropout, num_layers))\n"
     ]
    },
    {
     "name": "stdout",
     "output_type": "stream",
     "text": [
      "52015.0 15257\n",
      "Train Epoch: 0\t Loss: 1.700205\t Acc: 0.204627\n",
      "52069.0 15257\n",
      "Train Epoch: 1\t Loss: 1.698435\t Acc: 0.206397\n"
     ]
    }
   ],
   "source": [
    "# 训练模型\n",
    "\n",
    "epochs = 3\n",
    "\n",
    "batch_size = 1200\n",
    "\n",
    "now_time = time.time()\n",
    "\n",
    "model = LSTMnet(output_size=5,\n",
    "                hidden_dim=128,\n",
    "                bidirectional=False)\n",
    "\n",
    "loss_function = nn.CrossEntropyLoss()\n",
    "\n",
    "optimizer = Adam(model.parameters(),\n",
    "                lr=0.001,\n",
    "                betas=(0.9, 0.999),\n",
    "                eps=1e-08,\n",
    "                weight_decay=0,\n",
    "                amsgrad=False)\n",
    "\n",
    "reduce_lr = ReduceLROnPlateau(optimizer, \n",
    "                              mode='min', \n",
    "                              factor=0.2, \n",
    "                              patience=5, \n",
    "                              min_lr=0.001)\n",
    "\n",
    "\n",
    "data = Variable(torch.Tensor(X_train))\n",
    "target0 = Variable(torch.Tensor(Y_train))\n",
    "\n",
    "target1 = torch.zeros(len(target),5)\n",
    "index = target0.long().view(-1,1)\n",
    "target = target1.scatter_(dim=1,index=index,value=1)\n",
    "\n",
    "for epoch in range(epochs):\n",
    "    output, hidden = model(data)\n",
    "    \n",
    "    \n",
    "    output1 = torch.zeros(len(target),5)\n",
    "    index = output.long().view(-1,1)\n",
    "    output = output1.scatter_(dim=1,index=index,value=1)\n",
    "    \n",
    "    optimizer.zero_grad()\n",
    "    loss = loss_function(output, target)\n",
    "    loss = loss.requires_grad_()\n",
    "    loss.backward()\n",
    "    reduce_lr.step(loss)\n",
    "    \n",
    "    num_correct = torch.eq(output, target).sum().float().item()\n",
    "    print(num_correct, len(target))\n",
    "    print(\"Train Epoch: {}\\t Loss: {:.6f}\\t Acc: {:.6f}\".format(epoch, loss.item(), (num_correct/len(target)-3)/2 ))\n",
    "\n",
    "\n",
    "total_time = time.time() - now_time\n",
    "\n",
    "print(\"total time is: \", total_time)"
   ]
  },
  {
   "cell_type": "code",
   "execution_count": 24,
   "metadata": {},
   "outputs": [
    {
     "data": {
      "text/plain": [
       "tensor([[0., 0., 1., 0., 0.],\n",
       "        [0., 0., 0., 1., 0.],\n",
       "        [0., 0., 0., 1., 0.],\n",
       "        ...,\n",
       "        [0., 0., 0., 0., 0.],\n",
       "        [0., 0., 0., 0., 0.],\n",
       "        [0., 0., 0., 0., 0.]])"
      ]
     },
     "execution_count": 24,
     "metadata": {},
     "output_type": "execute_result"
    }
   ],
   "source": [
    "output"
   ]
  },
  {
   "cell_type": "code",
   "execution_count": 26,
   "metadata": {},
   "outputs": [
    {
     "data": {
      "text/plain": [
       "tensor([[0., 1., 0., 0., 0.],\n",
       "        [0., 0., 1., 0., 0.],\n",
       "        [0., 0., 0., 0., 1.],\n",
       "        ...,\n",
       "        [0., 0., 0., 0., 0.],\n",
       "        [0., 0., 0., 0., 0.],\n",
       "        [0., 0., 0., 0., 0.]])"
      ]
     },
     "execution_count": 26,
     "metadata": {},
     "output_type": "execute_result"
    }
   ],
   "source": [
    "target"
   ]
  },
  {
   "cell_type": "code",
   "execution_count": 27,
   "metadata": {},
   "outputs": [
    {
     "data": {
      "text/plain": [
       "tensor([1., 2., 4.,  ..., 2., 2., 1.])"
      ]
     },
     "execution_count": 27,
     "metadata": {},
     "output_type": "execute_result"
    }
   ],
   "source": [
    "target0"
   ]
  },
  {
   "cell_type": "code",
   "execution_count": 30,
   "metadata": {},
   "outputs": [
    {
     "data": {
      "text/plain": [
       "tensor([[False,  True,  True,  True, False],\n",
       "        [ True, False,  True,  True, False],\n",
       "        [False, False,  True,  True,  True],\n",
       "        ...,\n",
       "        [False,  True, False,  True,  True],\n",
       "        [ True,  True,  True,  True,  True],\n",
       "        [ True, False,  True, False,  True]])"
      ]
     },
     "execution_count": 30,
     "metadata": {},
     "output_type": "execute_result"
    }
   ],
   "source": [
    "torch.eq(output, target)"
   ]
  },
  {
   "cell_type": "code",
   "execution_count": null,
   "metadata": {},
   "outputs": [],
   "source": []
  }
 ],
 "metadata": {
  "kernelspec": {
   "display_name": "Python 3",
   "language": "python",
   "name": "python3"
  },
  "language_info": {
   "codemirror_mode": {
    "name": "ipython",
    "version": 3
   },
   "file_extension": ".py",
   "mimetype": "text/x-python",
   "name": "python",
   "nbconvert_exporter": "python",
   "pygments_lexer": "ipython3",
   "version": "3.7.0"
  }
 },
 "nbformat": 4,
 "nbformat_minor": 2
}
